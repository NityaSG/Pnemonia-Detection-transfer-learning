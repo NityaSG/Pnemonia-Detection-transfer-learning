{
 "cells": [
  {
   "attachments": {},
   "cell_type": "markdown",
   "metadata": {},
   "source": [
    "# Pneumonia Detection \n"
   ]
  },
  {
   "attachments": {},
   "cell_type": "markdown",
   "metadata": {},
   "source": [
    "### Importing libraries"
   ]
  },
  {
   "cell_type": "code",
   "execution_count": 38,
   "metadata": {
    "execution": {
     "iopub.execute_input": "2021-07-01T15:21:32.767012Z",
     "iopub.status.busy": "2021-07-01T15:21:32.766530Z",
     "iopub.status.idle": "2021-07-01T15:21:39.975971Z",
     "shell.execute_reply": "2021-07-01T15:21:39.974873Z",
     "shell.execute_reply.started": "2021-07-01T15:21:32.766926Z"
    }
   },
   "outputs": [],
   "source": [
    "import glob\n",
    "import os\n",
    "import numpy as np\n",
    "import pandas as pd\n",
    "import matplotlib.pyplot as plt\n",
    "%matplotlib inline\n",
    "import seaborn as sns\n",
    "import tensorflow as tf\n",
    "from tensorflow import keras\n",
    "from tensorflow.keras.applications.vgg16 import VGG16\n",
    "from tensorflow.keras.preprocessing.image import ImageDataGenerator\n",
    "from tensorflow.keras.utils import image_dataset_from_directory as idf"
   ]
  },
  {
   "attachments": {},
   "cell_type": "markdown",
   "metadata": {},
   "source": [
    "Defining the path of dataset images and the paths of train, test and validation respectively"
   ]
  },
  {
   "cell_type": "code",
   "execution_count": 21,
   "metadata": {
    "execution": {
     "iopub.execute_input": "2021-07-01T15:21:39.980250Z",
     "iopub.status.busy": "2021-07-01T15:21:39.979941Z",
     "iopub.status.idle": "2021-07-01T15:21:39.988148Z",
     "shell.execute_reply": "2021-07-01T15:21:39.986693Z",
     "shell.execute_reply.started": "2021-07-01T15:21:39.980219Z"
    }
   },
   "outputs": [],
   "source": [
    "dir_path = \"./archive/chest_xray/\""
   ]
  },
  {
   "cell_type": "code",
   "execution_count": 23,
   "metadata": {
    "execution": {
     "iopub.execute_input": "2021-07-01T15:21:39.993383Z",
     "iopub.status.busy": "2021-07-01T15:21:39.992986Z",
     "iopub.status.idle": "2021-07-01T15:21:40.001310Z",
     "shell.execute_reply": "2021-07-01T15:21:40.000140Z",
     "shell.execute_reply.started": "2021-07-01T15:21:39.993354Z"
    }
   },
   "outputs": [],
   "source": [
    "''' training path '''\n",
    "train_p = os.path.join(dir_path, \"train\")\n",
    "\n",
    "''' test path '''\n",
    "test_p =os.path.join(dir_path, \"test\")\n",
    "\n",
    "''' val path '''\n",
    "val_p = os.path.join(dir_path, \"val\")"
   ]
  },
  {
   "cell_type": "code",
   "execution_count": 24,
   "metadata": {
    "execution": {
     "iopub.execute_input": "2021-07-01T15:21:40.004091Z",
     "iopub.status.busy": "2021-07-01T15:21:40.003567Z",
     "iopub.status.idle": "2021-07-01T15:21:40.390532Z",
     "shell.execute_reply": "2021-07-01T15:21:40.389399Z",
     "shell.execute_reply.started": "2021-07-01T15:21:40.004024Z"
    }
   },
   "outputs": [],
   "source": [
    "''' PNEUMONIA images '''\n",
    "p_train_images = glob.glob(train_p + \"/PNEUMONIA/*.jpeg\")\n",
    "\n",
    "''' NORMAL  images '''\n",
    "n_train_images = glob.glob(train_p + \"/NORMAL/*.jpeg\")"
   ]
  },
  {
   "cell_type": "code",
   "execution_count": 25,
   "metadata": {
    "execution": {
     "iopub.execute_input": "2021-07-01T15:21:40.392476Z",
     "iopub.status.busy": "2021-07-01T15:21:40.392011Z",
     "iopub.status.idle": "2021-07-01T15:21:40.403881Z",
     "shell.execute_reply": "2021-07-01T15:21:40.402627Z",
     "shell.execute_reply.started": "2021-07-01T15:21:40.392432Z"
    }
   },
   "outputs": [],
   "source": [
    "df = pd.DataFrame(np.concatenate([[0]*len(n_train_images) , [1] *  len(p_train_images)]),columns=[\"class\"])"
   ]
  },
  {
   "cell_type": "code",
   "execution_count": 26,
   "metadata": {
    "execution": {
     "iopub.execute_input": "2021-07-01T15:21:40.406713Z",
     "iopub.status.busy": "2021-07-01T15:21:40.405986Z",
     "iopub.status.idle": "2021-07-01T15:21:40.596180Z",
     "shell.execute_reply": "2021-07-01T15:21:40.594731Z",
     "shell.execute_reply.started": "2021-07-01T15:21:40.406669Z"
    }
   },
   "outputs": [
    {
     "data": {
      "text/plain": [
       "<AxesSubplot:ylabel='count'>"
      ]
     },
     "execution_count": 26,
     "metadata": {},
     "output_type": "execute_result"
    },
    {
     "data": {
      "image/png": "[encoded data removed]",
      "text/plain": [
       "<Figure size 432x288 with 1 Axes>"
      ]
     },
     "metadata": {
      "needs_background": "light"
     },
     "output_type": "display_data"
    }
   ],
   "source": [
    "sns.countplot(df['class'])"
   ]
  },
  {
   "attachments": {},
   "cell_type": "markdown",
   "metadata": {},
   "source": [
    "Data Augmentation"
   ]
  },
  {
   "cell_type": "code",
   "execution_count": 53,
   "metadata": {
    "execution": {
     "iopub.execute_input": "2021-07-01T15:21:40.598276Z",
     "iopub.status.busy": "2021-07-01T15:21:40.597832Z",
     "iopub.status.idle": "2021-07-01T15:21:40.605568Z",
     "shell.execute_reply": "2021-07-01T15:21:40.603917Z",
     "shell.execute_reply.started": "2021-07-01T15:21:40.598234Z"
    }
   },
   "outputs": [],
   "source": [
    "''' Data Augmentation '''\n",
    "train_datagen = ImageDataGenerator(rescale =1/255, shear_range=10, zoom_range = 0.2, horizontal_flip = True, \n",
    "                              width_shift_range=0.2, fill_mode = 'nearest')\n",
    "\n",
    "test_datagen=ImageDataGenerator(\n",
    "    rescale = 1/255\n",
    ")\n",
    "\n",
    "val_datagen = ImageDataGenerator(\n",
    "    rescale = 1/255\n",
    ")"
   ]
  },
  {
   "attachments": {},
   "cell_type": "markdown",
   "metadata": {},
   "source": [
    "VGG16 Model (Pre trained Convolutional Neural network)\n",
    "Training disabled for the VGG16 weights"
   ]
  },
  {
   "cell_type": "code",
   "execution_count": 28,
   "metadata": {
    "execution": {
     "iopub.execute_input": "2021-07-01T15:21:40.608071Z",
     "iopub.status.busy": "2021-07-01T15:21:40.607382Z",
     "iopub.status.idle": "2021-07-01T15:21:45.374019Z",
     "shell.execute_reply": "2021-07-01T15:21:45.372788Z",
     "shell.execute_reply.started": "2021-07-01T15:21:40.608006Z"
    }
   },
   "outputs": [],
   "source": [
    "''' VGG16 Model '''\n",
    "\n",
    "model1 = VGG16(include_top = False,weights='imagenet')\n",
    "\n",
    "''' freezing layers '''\n",
    "for i in model1.layers:\n",
    "    i.trainable=False\n",
    "    \n",
    "out = model1.output\n",
    "\n",
    "''' GlobalAveragePooling Layer '''\n",
    "out = keras.layers.GlobalAveragePooling2D()(out)\n",
    "out = keras.layers.Dense(128, activation='relu')(out)\n",
    "\n",
    "''' Classification Layer '''\n",
    "pred = keras.layers.Dense(1, activation='sigmoid')(out)\n",
    "\n",
    "''' final model '''\n",
    "model= keras.Model(model1.input, pred)\n",
    "\n",
    "lr = 0.1\n",
    "lr_schedule = tf.keras.optimizers.schedules.ExponentialDecay(lr, decay_steps=100000, decay_rate=0.96, staircase=True)\n",
    "\n",
    "''' Compile the model '''\n",
    "model.compile(loss='binary_crossentropy', optimizer=tf.keras.optimizers.RMSprop(lr_schedule), metrics=['accuracy'])"
   ]
  },
  {
   "attachments": {},
   "cell_type": "markdown",
   "metadata": {},
   "source": [
    "Model Structure :"
   ]
  },
  {
   "cell_type": "code",
   "execution_count": 29,
   "metadata": {
    "execution": {
     "iopub.execute_input": "2021-07-01T15:22:11.299459Z",
     "iopub.status.busy": "2021-07-01T15:22:11.298874Z",
     "iopub.status.idle": "2021-07-01T15:22:11.327424Z",
     "shell.execute_reply": "2021-07-01T15:22:11.326091Z",
     "shell.execute_reply.started": "2021-07-01T15:22:11.299413Z"
    }
   },
   "outputs": [
    {
     "name": "stdout",
     "output_type": "stream",
     "text": [
      "Model: \"model_1\"\n",
      "_________________________________________________________________\n",
      "Layer (type)                 Output Shape              Param #   \n",
      "=================================================================\n",
      "input_2 (InputLayer)         [(None, None, None, 3)]   0         \n",
      "_________________________________________________________________\n",
      "block1_conv1 (Conv2D)        (None, None, None, 64)    1792      \n",
      "_________________________________________________________________\n",
      "block1_conv2 (Conv2D)        (None, None, None, 64)    36928     \n",
      "_________________________________________________________________\n",
      "block1_pool (MaxPooling2D)   (None, None, None, 64)    0         \n",
      "_________________________________________________________________\n",
      "block2_conv1 (Conv2D)        (None, None, None, 128)   73856     \n",
      "_________________________________________________________________\n",
      "block2_conv2 (Conv2D)        (None, None, None, 128)   147584    \n",
      "_________________________________________________________________\n",
      "block2_pool (MaxPooling2D)   (None, None, None, 128)   0         \n",
      "_________________________________________________________________\n",
      "block3_conv1 (Conv2D)        (None, None, None, 256)   295168    \n",
      "_________________________________________________________________\n",
      "block3_conv2 (Conv2D)        (None, None, None, 256)   590080    \n",
      "_________________________________________________________________\n",
      "block3_conv3 (Conv2D)        (None, None, None, 256)   590080    \n",
      "_________________________________________________________________\n",
      "block3_pool (MaxPooling2D)   (None, None, None, 256)   0         \n",
      "_________________________________________________________________\n",
      "block4_conv1 (Conv2D)        (None, None, None, 512)   1180160   \n",
      "_________________________________________________________________\n",
      "block4_conv2 (Conv2D)        (None, None, None, 512)   2359808   \n",
      "_________________________________________________________________\n",
      "block4_conv3 (Conv2D)        (None, None, None, 512)   2359808   \n",
      "_________________________________________________________________\n",
      "block4_pool (MaxPooling2D)   (None, None, None, 512)   0         \n",
      "_________________________________________________________________\n",
      "block5_conv1 (Conv2D)        (None, None, None, 512)   2359808   \n",
      "_________________________________________________________________\n",
      "block5_conv2 (Conv2D)        (None, None, None, 512)   2359808   \n",
      "_________________________________________________________________\n",
      "block5_conv3 (Conv2D)        (None, None, None, 512)   2359808   \n",
      "_________________________________________________________________\n",
      "block5_pool (MaxPooling2D)   (None, None, None, 512)   0         \n",
      "_________________________________________________________________\n",
      "global_average_pooling2d_1 ( (None, 512)               0         \n",
      "_________________________________________________________________\n",
      "dense_2 (Dense)              (None, 128)               65664     \n",
      "_________________________________________________________________\n",
      "dense_3 (Dense)              (None, 1)                 129       \n",
      "=================================================================\n",
      "Total params: 14,780,481\n",
      "Trainable params: 65,793\n",
      "Non-trainable params: 14,714,688\n",
      "_________________________________________________________________\n"
     ]
    }
   ],
   "source": [
    "model.summary()"
   ]
  },
  {
   "attachments": {},
   "cell_type": "markdown",
   "metadata": {},
   "source": [
    "Creating train, test and validation dataset"
   ]
  },
  {
   "cell_type": "code",
   "execution_count": 55,
   "metadata": {},
   "outputs": [
    {
     "name": "stdout",
     "output_type": "stream",
     "text": [
      "Found 5216 images belonging to 2 classes.\n",
      "Found 16 images belonging to 2 classes.\n",
      "Found 624 images belonging to 2 classes.\n"
     ]
    }
   ],
   "source": [
    "\n",
    "train_ds = train_datagen.flow_from_directory(train_p, target_size=(150,150), batch_size= 16, class_mode='binary')\n",
    "\n",
    "val_ds = val_datagen.flow_from_directory(val_p, target_size=(150,150),batch_size=8, class_mode='binary')\n",
    "\n",
    "tes_ds = test_datagen.flow_from_directory(test_p, target_size=(150,150), batch_size=32, class_mode='binary')"
   ]
  },
  {
   "attachments": {},
   "cell_type": "markdown",
   "metadata": {},
   "source": [
    "Training : "
   ]
  },
  {
   "cell_type": "code",
   "execution_count": 56,
   "metadata": {
    "execution": {
     "iopub.execute_input": "2021-07-01T15:22:19.658232Z",
     "iopub.status.busy": "2021-07-01T15:22:19.657697Z",
     "iopub.status.idle": "2021-07-01T15:48:03.124949Z",
     "shell.execute_reply": "2021-07-01T15:48:03.123762Z",
     "shell.execute_reply.started": "2021-07-01T15:22:19.658189Z"
    }
   },
   "outputs": [
    {
     "name": "stdout",
     "output_type": "stream",
     "text": [
      "Epoch 1/20\n",
      "100/100 [==============================] - 46s 366ms/step - loss: 2.5330 - accuracy: 0.7600 - val_loss: 0.2569 - val_accuracy: 0.8750\n",
      "Epoch 2/20\n",
      "100/100 [==============================] - 34s 340ms/step - loss: 0.3813 - accuracy: 0.8525 - val_loss: 0.2684 - val_accuracy: 0.8750\n",
      "Epoch 3/20\n",
      "100/100 [==============================] - 35s 345ms/step - loss: 0.4321 - accuracy: 0.8606 - val_loss: 0.4768 - val_accuracy: 0.8125\n",
      "Epoch 4/20\n",
      "100/100 [==============================] - 37s 370ms/step - loss: 0.3083 - accuracy: 0.8831 - val_loss: 0.6388 - val_accuracy: 0.8125\n",
      "Epoch 5/20\n",
      "100/100 [==============================] - 38s 383ms/step - loss: 0.2953 - accuracy: 0.8875 - val_loss: 0.2552 - val_accuracy: 0.8750\n",
      "Epoch 6/20\n",
      "100/100 [==============================] - 42s 414ms/step - loss: 0.3484 - accuracy: 0.8819 - val_loss: 0.6504 - val_accuracy: 0.7500\n",
      "Epoch 7/20\n",
      "100/100 [==============================] - 44s 439ms/step - loss: 0.3105 - accuracy: 0.9031 - val_loss: 0.4611 - val_accuracy: 0.8125\n",
      "Epoch 8/20\n",
      "100/100 [==============================] - 46s 463ms/step - loss: 0.2764 - accuracy: 0.9038 - val_loss: 0.3070 - val_accuracy: 0.8125\n",
      "Epoch 9/20\n",
      "100/100 [==============================] - 46s 459ms/step - loss: 0.2504 - accuracy: 0.9069 - val_loss: 0.4472 - val_accuracy: 0.8125\n",
      "Epoch 10/20\n",
      "100/100 [==============================] - 48s 475ms/step - loss: 0.3242 - accuracy: 0.8975 - val_loss: 0.5039 - val_accuracy: 0.7500\n",
      "Epoch 11/20\n",
      "100/100 [==============================] - 48s 483ms/step - loss: 0.2501 - accuracy: 0.9075 - val_loss: 0.2531 - val_accuracy: 0.8750\n",
      "Epoch 12/20\n",
      "100/100 [==============================] - 50s 499ms/step - loss: 0.2801 - accuracy: 0.9069 - val_loss: 2.6966 - val_accuracy: 0.6250\n",
      "Epoch 13/20\n",
      "100/100 [==============================] - 52s 522ms/step - loss: 0.2636 - accuracy: 0.9050 - val_loss: 2.6599 - val_accuracy: 0.6875\n",
      "Epoch 14/20\n",
      "100/100 [==============================] - 55s 551ms/step - loss: 0.2428 - accuracy: 0.9119 - val_loss: 0.1549 - val_accuracy: 0.9375\n",
      "Epoch 15/20\n",
      "100/100 [==============================] - 56s 558ms/step - loss: 0.2260 - accuracy: 0.9269 - val_loss: 1.0130 - val_accuracy: 0.8125\n",
      "Epoch 16/20\n",
      "100/100 [==============================] - 61s 606ms/step - loss: 0.2359 - accuracy: 0.9144 - val_loss: 0.2433 - val_accuracy: 0.8750\n",
      "Epoch 17/20\n",
      "100/100 [==============================] - 61s 611ms/step - loss: 0.2154 - accuracy: 0.9319 - val_loss: 0.2140 - val_accuracy: 0.8750\n",
      "Epoch 18/20\n",
      "100/100 [==============================] - 63s 632ms/step - loss: 0.2580 - accuracy: 0.9062 - val_loss: 0.5816 - val_accuracy: 0.6875\n",
      "Epoch 19/20\n",
      "100/100 [==============================] - 69s 690ms/step - loss: 0.2193 - accuracy: 0.9244 - val_loss: 1.7771 - val_accuracy: 0.6875\n",
      "Epoch 20/20\n",
      "100/100 [==============================] - 68s 679ms/step - loss: 0.2576 - accuracy: 0.9094 - val_loss: 0.3185 - val_accuracy: 0.8750\n"
     ]
    }
   ],
   "source": [
    "history = model.fit(train_ds, steps_per_epoch = 100, epochs=20, validation_data=val_ds)"
   ]
  },
  {
   "cell_type": "code",
   "execution_count": 64,
   "metadata": {
    "execution": {
     "iopub.execute_input": "2021-07-01T15:48:20.003723Z",
     "iopub.status.busy": "2021-07-01T15:48:20.003354Z",
     "iopub.status.idle": "2021-07-01T15:48:57.134603Z",
     "shell.execute_reply": "2021-07-01T15:48:57.133506Z",
     "shell.execute_reply.started": "2021-07-01T15:48:20.003691Z"
    }
   },
   "outputs": [
    {
     "name": "stderr",
     "output_type": "stream",
     "text": [
      "c:\\Users\\KIIT\\.conda\\envs\\tensorflow\\lib\\site-packages\\keras\\engine\\training.py:2006: UserWarning: `Model.evaluate_generator` is deprecated and will be removed in a future version. Please use `Model.evaluate`, which supports generators.\n",
      "  warnings.warn('`Model.evaluate_generator` is deprecated and '\n"
     ]
    },
    {
     "name": "stdout",
     "output_type": "stream",
     "text": [
      "WARNING:tensorflow:Your input ran out of data; interrupting training. Make sure that your dataset or generator can generate at least `steps_per_epoch * epochs` batches (in this case, 624 batches). You may need to use the repeat() function when building your dataset.\n",
      "Accuracy of the model is :  0.9294871687889099\n"
     ]
    }
   ],
   "source": [
    "accuracy = model.evaluate_generator(tes_ds,624)[1]\n",
    "print(\"Accuracy of the model is : \",accuracy)"
   ]
  },
  {
   "cell_type": "code",
   "execution_count": 60,
   "metadata": {
    "execution": {
     "iopub.execute_input": "2021-07-01T15:49:00.273682Z",
     "iopub.status.busy": "2021-07-01T15:49:00.273329Z",
     "iopub.status.idle": "2021-07-01T15:49:00.280508Z",
     "shell.execute_reply": "2021-07-01T15:49:00.279145Z",
     "shell.execute_reply.started": "2021-07-01T15:49:00.273653Z"
    }
   },
   "outputs": [
    {
     "name": "stdout",
     "output_type": "stream",
     "text": [
      "Accuracy of the model is :  0.879807710647583\n"
     ]
    }
   ],
   "source": []
  },
  {
   "attachments": {},
   "cell_type": "markdown",
   "metadata": {},
   "source": [
    "Training with the weights of VGG16 allowed to train"
   ]
  },
  {
   "cell_type": "code",
   "execution_count": 61,
   "metadata": {
    "execution": {
     "iopub.execute_input": "2021-07-01T15:49:04.713569Z",
     "iopub.status.busy": "2021-07-01T15:49:04.713168Z",
     "iopub.status.idle": "2021-07-01T15:49:04.719645Z",
     "shell.execute_reply": "2021-07-01T15:49:04.718363Z",
     "shell.execute_reply.started": "2021-07-01T15:49:04.713538Z"
    }
   },
   "outputs": [],
   "source": [
    "for layer in model1.layers:\n",
    "    layer.trainable = True"
   ]
  },
  {
   "cell_type": "code",
   "execution_count": 62,
   "metadata": {
    "execution": {
     "iopub.execute_input": "2021-07-01T15:52:28.684299Z",
     "iopub.status.busy": "2021-07-01T15:52:28.683860Z",
     "iopub.status.idle": "2021-07-01T15:52:28.713336Z",
     "shell.execute_reply": "2021-07-01T15:52:28.712036Z",
     "shell.execute_reply.started": "2021-07-01T15:52:28.684256Z"
    }
   },
   "outputs": [],
   "source": [
    "lr = 1e-5\n",
    "lr_schedule = tf.keras.optimizers.schedules.ExponentialDecay(lr, decay_steps=100000, decay_rate=0.96, staircase=True)\n",
    "model.compile(optimizer=tf.keras.optimizers.RMSprop(lr_schedule), loss=keras.losses.BinaryCrossentropy(from_logits=True),\n",
    "              metrics=[keras.metrics.BinaryAccuracy()])"
   ]
  },
  {
   "cell_type": "code",
   "execution_count": 63,
   "metadata": {
    "execution": {
     "iopub.execute_input": "2021-07-01T15:52:37.813674Z",
     "iopub.status.busy": "2021-07-01T15:52:37.813230Z",
     "iopub.status.idle": "2021-07-01T17:01:00.258136Z",
     "shell.execute_reply": "2021-07-01T17:01:00.257136Z",
     "shell.execute_reply.started": "2021-07-01T15:52:37.813644Z"
    }
   },
   "outputs": [
    {
     "name": "stdout",
     "output_type": "stream",
     "text": [
      "Epoch 1/100\n"
     ]
    },
    {
     "name": "stderr",
     "output_type": "stream",
     "text": [
      "c:\\Users\\KIIT\\.conda\\envs\\tensorflow\\lib\\site-packages\\keras\\backend.py:4993: UserWarning: \"`binary_crossentropy` received `from_logits=True`, but the `output` argument was produced by a sigmoid or softmax activation and thus does not represent logits. Was this intended?\"\n",
      "  warnings.warn(\n"
     ]
    },
    {
     "name": "stdout",
     "output_type": "stream",
     "text": [
      "50/50 [==============================] - 35s 590ms/step - loss: 0.3653 - binary_accuracy: 0.9125 - val_loss: 0.2391 - val_binary_accuracy: 0.9375\n",
      "Epoch 2/100\n",
      "50/50 [==============================] - 30s 587ms/step - loss: 0.2761 - binary_accuracy: 0.8875 - val_loss: 0.2202 - val_binary_accuracy: 0.9375\n",
      "Epoch 3/100\n",
      "50/50 [==============================] - 30s 587ms/step - loss: 0.2340 - binary_accuracy: 0.9087 - val_loss: 0.9417 - val_binary_accuracy: 0.7500\n",
      "Epoch 4/100\n",
      "50/50 [==============================] - 30s 603ms/step - loss: 0.2149 - binary_accuracy: 0.9250 - val_loss: 0.3463 - val_binary_accuracy: 0.8750\n",
      "Epoch 5/100\n",
      "50/50 [==============================] - 50s 1s/step - loss: 0.1771 - binary_accuracy: 0.9450 - val_loss: 0.1716 - val_binary_accuracy: 0.9375\n",
      "Epoch 6/100\n",
      "50/50 [==============================] - 57s 1s/step - loss: 0.1794 - binary_accuracy: 0.9300 - val_loss: 0.6858 - val_binary_accuracy: 0.8125\n",
      "Epoch 7/100\n",
      "50/50 [==============================] - 65s 1s/step - loss: 0.1799 - binary_accuracy: 0.9287 - val_loss: 0.2195 - val_binary_accuracy: 0.8125\n",
      "Epoch 8/100\n",
      "50/50 [==============================] - 71s 1s/step - loss: 0.1732 - binary_accuracy: 0.9325 - val_loss: 0.5748 - val_binary_accuracy: 0.8125\n",
      "Epoch 9/100\n",
      "50/50 [==============================] - 68s 1s/step - loss: 0.1455 - binary_accuracy: 0.9463 - val_loss: 0.4275 - val_binary_accuracy: 0.7500\n",
      "Epoch 10/100\n",
      "50/50 [==============================] - 74s 1s/step - loss: 0.1501 - binary_accuracy: 0.9475 - val_loss: 0.1805 - val_binary_accuracy: 0.9375\n",
      "Epoch 11/100\n",
      "50/50 [==============================] - 80s 2s/step - loss: 0.1198 - binary_accuracy: 0.9588 - val_loss: 1.8859 - val_binary_accuracy: 0.6250\n",
      "Epoch 12/100\n",
      "50/50 [==============================] - 80s 2s/step - loss: 0.1451 - binary_accuracy: 0.9400 - val_loss: 0.2111 - val_binary_accuracy: 0.8750\n",
      "Epoch 13/100\n",
      "50/50 [==============================] - 84s 2s/step - loss: 0.1454 - binary_accuracy: 0.9500 - val_loss: 0.1009 - val_binary_accuracy: 0.9375\n",
      "Epoch 14/100\n",
      "50/50 [==============================] - 81s 2s/step - loss: 0.1052 - binary_accuracy: 0.9638 - val_loss: 0.1456 - val_binary_accuracy: 0.9375\n",
      "Epoch 15/100\n",
      "50/50 [==============================] - 74s 1s/step - loss: 0.1022 - binary_accuracy: 0.9663 - val_loss: 0.0767 - val_binary_accuracy: 1.0000\n",
      "Epoch 16/100\n",
      "50/50 [==============================] - 78s 2s/step - loss: 0.1423 - binary_accuracy: 0.9438 - val_loss: 1.0574 - val_binary_accuracy: 0.6250\n",
      "Epoch 17/100\n",
      "50/50 [==============================] - 101s 2s/step - loss: 0.1326 - binary_accuracy: 0.9438 - val_loss: 0.2314 - val_binary_accuracy: 0.9375\n",
      "Epoch 18/100\n",
      "50/50 [==============================] - 54s 1s/step - loss: 0.1077 - binary_accuracy: 0.9625 - val_loss: 0.5747 - val_binary_accuracy: 0.8125\n",
      "Epoch 19/100\n",
      "50/50 [==============================] - 47s 923ms/step - loss: 0.1119 - binary_accuracy: 0.9588 - val_loss: 0.1385 - val_binary_accuracy: 0.9375\n",
      "Epoch 20/100\n",
      "50/50 [==============================] - 46s 901ms/step - loss: 0.1137 - binary_accuracy: 0.9600 - val_loss: 0.4720 - val_binary_accuracy: 0.7500\n",
      "Epoch 21/100\n",
      "50/50 [==============================] - 44s 872ms/step - loss: 0.1079 - binary_accuracy: 0.9575 - val_loss: 0.1211 - val_binary_accuracy: 0.9375\n",
      "Epoch 22/100\n",
      "50/50 [==============================] - 45s 894ms/step - loss: 0.1162 - binary_accuracy: 0.9575 - val_loss: 0.2912 - val_binary_accuracy: 0.8750\n",
      "Epoch 23/100\n",
      "50/50 [==============================] - 47s 938ms/step - loss: 0.1034 - binary_accuracy: 0.9688 - val_loss: 0.1311 - val_binary_accuracy: 0.9375\n",
      "Epoch 24/100\n",
      "50/50 [==============================] - 43s 857ms/step - loss: 0.0862 - binary_accuracy: 0.9663 - val_loss: 0.2682 - val_binary_accuracy: 0.8750\n",
      "Epoch 25/100\n",
      "50/50 [==============================] - 43s 847ms/step - loss: 0.1024 - binary_accuracy: 0.9613 - val_loss: 0.3100 - val_binary_accuracy: 0.8750\n",
      "Epoch 26/100\n",
      "50/50 [==============================] - 45s 887ms/step - loss: 0.0949 - binary_accuracy: 0.9625 - val_loss: 0.1324 - val_binary_accuracy: 0.9375\n",
      "Epoch 27/100\n",
      "50/50 [==============================] - 43s 848ms/step - loss: 0.1008 - binary_accuracy: 0.9625 - val_loss: 0.1802 - val_binary_accuracy: 0.9375\n",
      "Epoch 28/100\n",
      "50/50 [==============================] - 46s 922ms/step - loss: 0.0697 - binary_accuracy: 0.9775 - val_loss: 0.5542 - val_binary_accuracy: 0.8125\n",
      "Epoch 29/100\n",
      "50/50 [==============================] - 44s 864ms/step - loss: 0.1131 - binary_accuracy: 0.9650 - val_loss: 0.7161 - val_binary_accuracy: 0.6875\n",
      "Epoch 30/100\n",
      "50/50 [==============================] - 43s 845ms/step - loss: 0.1187 - binary_accuracy: 0.9600 - val_loss: 0.2511 - val_binary_accuracy: 0.8750\n",
      "Epoch 31/100\n",
      "50/50 [==============================] - 44s 862ms/step - loss: 0.0957 - binary_accuracy: 0.9663 - val_loss: 0.3022 - val_binary_accuracy: 0.8125\n",
      "Epoch 32/100\n",
      "50/50 [==============================] - 49s 966ms/step - loss: 0.0795 - binary_accuracy: 0.9762 - val_loss: 0.1292 - val_binary_accuracy: 0.9375\n",
      "Epoch 33/100\n",
      "50/50 [==============================] - 43s 828ms/step - loss: 0.0863 - binary_accuracy: 0.9712 - val_loss: 0.1911 - val_binary_accuracy: 0.8750\n",
      "Epoch 34/100\n",
      "50/50 [==============================] - 41s 818ms/step - loss: 0.0962 - binary_accuracy: 0.9675 - val_loss: 0.1793 - val_binary_accuracy: 0.8125\n",
      "Epoch 35/100\n",
      "50/50 [==============================] - 55s 1s/step - loss: 0.0836 - binary_accuracy: 0.9712 - val_loss: 0.1596 - val_binary_accuracy: 0.9375\n",
      "Epoch 36/100\n",
      "50/50 [==============================] - 43s 850ms/step - loss: 0.0580 - binary_accuracy: 0.9787 - val_loss: 0.1285 - val_binary_accuracy: 0.9375\n",
      "Epoch 37/100\n",
      "50/50 [==============================] - 45s 879ms/step - loss: 0.0974 - binary_accuracy: 0.9675 - val_loss: 0.4978 - val_binary_accuracy: 0.8125\n",
      "Epoch 38/100\n",
      "50/50 [==============================] - 36s 707ms/step - loss: 0.0546 - binary_accuracy: 0.9887 - val_loss: 0.2619 - val_binary_accuracy: 0.8750\n",
      "Epoch 39/100\n",
      "50/50 [==============================] - 39s 764ms/step - loss: 0.0903 - binary_accuracy: 0.9725 - val_loss: 0.0942 - val_binary_accuracy: 0.9375\n",
      "Epoch 40/100\n",
      "50/50 [==============================] - 43s 856ms/step - loss: 0.0754 - binary_accuracy: 0.9725 - val_loss: 1.3156 - val_binary_accuracy: 0.6250\n",
      "Epoch 41/100\n",
      "50/50 [==============================] - 38s 748ms/step - loss: 0.0965 - binary_accuracy: 0.9712 - val_loss: 0.2897 - val_binary_accuracy: 0.8750\n",
      "Epoch 42/100\n",
      "50/50 [==============================] - 36s 710ms/step - loss: 0.1060 - binary_accuracy: 0.9625 - val_loss: 0.3115 - val_binary_accuracy: 0.8750\n",
      "Epoch 43/100\n",
      "50/50 [==============================] - 35s 689ms/step - loss: 0.0799 - binary_accuracy: 0.9638 - val_loss: 0.0466 - val_binary_accuracy: 1.0000\n",
      "Epoch 44/100\n",
      "50/50 [==============================] - 37s 730ms/step - loss: 0.0704 - binary_accuracy: 0.9638 - val_loss: 0.8182 - val_binary_accuracy: 0.6875\n",
      "Epoch 45/100\n",
      "50/50 [==============================] - 36s 712ms/step - loss: 0.0629 - binary_accuracy: 0.9775 - val_loss: 0.1502 - val_binary_accuracy: 0.9375\n",
      "Epoch 46/100\n",
      "50/50 [==============================] - 37s 729ms/step - loss: 0.0962 - binary_accuracy: 0.9762 - val_loss: 0.0482 - val_binary_accuracy: 1.0000\n",
      "Epoch 47/100\n",
      "50/50 [==============================] - 38s 747ms/step - loss: 0.0782 - binary_accuracy: 0.9737 - val_loss: 0.0627 - val_binary_accuracy: 1.0000\n",
      "Epoch 48/100\n",
      "50/50 [==============================] - 38s 756ms/step - loss: 0.0872 - binary_accuracy: 0.9688 - val_loss: 0.3465 - val_binary_accuracy: 0.9375\n",
      "Epoch 49/100\n",
      "50/50 [==============================] - 43s 842ms/step - loss: 0.0737 - binary_accuracy: 0.9812 - val_loss: 1.0628 - val_binary_accuracy: 0.6250\n",
      "Epoch 50/100\n",
      "50/50 [==============================] - 44s 865ms/step - loss: 0.0717 - binary_accuracy: 0.9762 - val_loss: 0.0735 - val_binary_accuracy: 0.9375\n",
      "Epoch 51/100\n",
      "50/50 [==============================] - 47s 936ms/step - loss: 0.0733 - binary_accuracy: 0.9800 - val_loss: 0.3276 - val_binary_accuracy: 0.8750\n",
      "Epoch 52/100\n",
      "50/50 [==============================] - 41s 809ms/step - loss: 0.0746 - binary_accuracy: 0.9775 - val_loss: 0.4728 - val_binary_accuracy: 0.7500\n",
      "Epoch 53/100\n",
      "50/50 [==============================] - 47s 927ms/step - loss: 0.0734 - binary_accuracy: 0.9775 - val_loss: 0.1184 - val_binary_accuracy: 1.0000\n",
      "Epoch 54/100\n",
      "50/50 [==============================] - 43s 844ms/step - loss: 0.0773 - binary_accuracy: 0.9737 - val_loss: 0.0565 - val_binary_accuracy: 1.0000\n",
      "Epoch 55/100\n",
      "50/50 [==============================] - 46s 907ms/step - loss: 0.0546 - binary_accuracy: 0.9787 - val_loss: 0.7789 - val_binary_accuracy: 0.7500\n",
      "Epoch 56/100\n",
      "50/50 [==============================] - 44s 875ms/step - loss: 0.0688 - binary_accuracy: 0.9725 - val_loss: 0.4919 - val_binary_accuracy: 0.8750\n",
      "Epoch 57/100\n",
      "50/50 [==============================] - 41s 800ms/step - loss: 0.0399 - binary_accuracy: 0.9850 - val_loss: 0.5178 - val_binary_accuracy: 0.7500\n",
      "Epoch 58/100\n",
      "50/50 [==============================] - 49s 975ms/step - loss: 0.0824 - binary_accuracy: 0.9750 - val_loss: 0.2736 - val_binary_accuracy: 0.9375\n",
      "Epoch 59/100\n",
      "50/50 [==============================] - 50s 999ms/step - loss: 0.0638 - binary_accuracy: 0.9787 - val_loss: 0.0256 - val_binary_accuracy: 1.0000\n",
      "Epoch 60/100\n",
      "50/50 [==============================] - 36s 715ms/step - loss: 0.0903 - binary_accuracy: 0.9638 - val_loss: 0.0563 - val_binary_accuracy: 1.0000\n",
      "Epoch 61/100\n",
      "50/50 [==============================] - 39s 769ms/step - loss: 0.0817 - binary_accuracy: 0.9688 - val_loss: 0.0475 - val_binary_accuracy: 1.0000\n",
      "Epoch 62/100\n",
      "50/50 [==============================] - 39s 769ms/step - loss: 0.0843 - binary_accuracy: 0.9688 - val_loss: 0.0976 - val_binary_accuracy: 1.0000\n",
      "Epoch 63/100\n",
      "50/50 [==============================] - 37s 729ms/step - loss: 0.0552 - binary_accuracy: 0.9800 - val_loss: 0.2073 - val_binary_accuracy: 0.8750\n",
      "Epoch 64/100\n",
      "50/50 [==============================] - 40s 791ms/step - loss: 0.0895 - binary_accuracy: 0.9737 - val_loss: 0.0791 - val_binary_accuracy: 1.0000\n",
      "Epoch 65/100\n",
      "50/50 [==============================] - 39s 766ms/step - loss: 0.0609 - binary_accuracy: 0.9787 - val_loss: 1.3633 - val_binary_accuracy: 0.6250\n",
      "Epoch 66/100\n",
      "50/50 [==============================] - 37s 726ms/step - loss: 0.0445 - binary_accuracy: 0.9850 - val_loss: 0.1809 - val_binary_accuracy: 0.9375\n",
      "Epoch 67/100\n",
      "50/50 [==============================] - 37s 737ms/step - loss: 0.0603 - binary_accuracy: 0.9750 - val_loss: 0.2701 - val_binary_accuracy: 0.8750\n",
      "Epoch 68/100\n",
      "50/50 [==============================] - 38s 744ms/step - loss: 0.0489 - binary_accuracy: 0.9812 - val_loss: 0.9130 - val_binary_accuracy: 0.6250\n",
      "Epoch 69/100\n",
      "50/50 [==============================] - 40s 785ms/step - loss: 0.0753 - binary_accuracy: 0.9787 - val_loss: 0.0355 - val_binary_accuracy: 1.0000\n",
      "Epoch 70/100\n",
      "50/50 [==============================] - 42s 838ms/step - loss: 0.0493 - binary_accuracy: 0.9800 - val_loss: 0.1474 - val_binary_accuracy: 0.9375\n",
      "Epoch 71/100\n",
      "50/50 [==============================] - 46s 908ms/step - loss: 0.0651 - binary_accuracy: 0.9787 - val_loss: 0.0862 - val_binary_accuracy: 0.9375\n",
      "Epoch 72/100\n",
      "50/50 [==============================] - 41s 822ms/step - loss: 0.0553 - binary_accuracy: 0.9825 - val_loss: 0.0744 - val_binary_accuracy: 1.0000\n",
      "Epoch 73/100\n",
      "50/50 [==============================] - 43s 858ms/step - loss: 0.0504 - binary_accuracy: 0.9800 - val_loss: 0.0163 - val_binary_accuracy: 1.0000\n",
      "Epoch 74/100\n",
      "50/50 [==============================] - 43s 844ms/step - loss: 0.0730 - binary_accuracy: 0.9812 - val_loss: 0.7080 - val_binary_accuracy: 0.6875\n",
      "Epoch 75/100\n",
      "50/50 [==============================] - 42s 837ms/step - loss: 0.0645 - binary_accuracy: 0.9800 - val_loss: 0.0695 - val_binary_accuracy: 0.9375\n",
      "Epoch 76/100\n",
      "50/50 [==============================] - 45s 887ms/step - loss: 0.0595 - binary_accuracy: 0.9762 - val_loss: 0.2807 - val_binary_accuracy: 0.8750\n",
      "Epoch 77/100\n",
      "50/50 [==============================] - 42s 821ms/step - loss: 0.0760 - binary_accuracy: 0.9787 - val_loss: 0.1553 - val_binary_accuracy: 0.8750\n",
      "Epoch 78/100\n",
      "50/50 [==============================] - 41s 816ms/step - loss: 0.0644 - binary_accuracy: 0.9800 - val_loss: 0.0792 - val_binary_accuracy: 1.0000\n",
      "Epoch 79/100\n",
      "50/50 [==============================] - 42s 825ms/step - loss: 0.0416 - binary_accuracy: 0.9887 - val_loss: 0.0757 - val_binary_accuracy: 0.9375\n",
      "Epoch 80/100\n",
      "50/50 [==============================] - 42s 834ms/step - loss: 0.0736 - binary_accuracy: 0.9787 - val_loss: 0.0291 - val_binary_accuracy: 1.0000\n",
      "Epoch 81/100\n",
      "50/50 [==============================] - 44s 869ms/step - loss: 0.0554 - binary_accuracy: 0.9850 - val_loss: 0.1225 - val_binary_accuracy: 0.8750\n",
      "Epoch 82/100\n",
      "50/50 [==============================] - 42s 835ms/step - loss: 0.0460 - binary_accuracy: 0.9837 - val_loss: 0.0236 - val_binary_accuracy: 1.0000\n",
      "Epoch 83/100\n",
      "50/50 [==============================] - 41s 824ms/step - loss: 0.0621 - binary_accuracy: 0.9812 - val_loss: 0.2135 - val_binary_accuracy: 0.8750\n",
      "Epoch 84/100\n",
      "50/50 [==============================] - 41s 820ms/step - loss: 0.0740 - binary_accuracy: 0.9700 - val_loss: 0.5783 - val_binary_accuracy: 0.6875\n",
      "Epoch 85/100\n",
      "50/50 [==============================] - 29s 582ms/step - loss: 0.0579 - binary_accuracy: 0.9800 - val_loss: 0.0814 - val_binary_accuracy: 1.0000\n",
      "Epoch 86/100\n",
      "50/50 [==============================] - 31s 623ms/step - loss: 0.0609 - binary_accuracy: 0.9800 - val_loss: 0.0307 - val_binary_accuracy: 1.0000\n",
      "Epoch 87/100\n",
      "50/50 [==============================] - 37s 721ms/step - loss: 0.0620 - binary_accuracy: 0.9800 - val_loss: 0.0990 - val_binary_accuracy: 0.9375\n",
      "Epoch 88/100\n",
      "50/50 [==============================] - 40s 803ms/step - loss: 0.0590 - binary_accuracy: 0.9775 - val_loss: 0.1483 - val_binary_accuracy: 0.9375\n",
      "Epoch 89/100\n",
      "50/50 [==============================] - 41s 810ms/step - loss: 0.0571 - binary_accuracy: 0.9787 - val_loss: 0.3016 - val_binary_accuracy: 0.8125\n",
      "Epoch 90/100\n",
      "50/50 [==============================] - 39s 772ms/step - loss: 0.0697 - binary_accuracy: 0.9800 - val_loss: 0.0528 - val_binary_accuracy: 1.0000\n",
      "Epoch 91/100\n",
      "50/50 [==============================] - 41s 795ms/step - loss: 0.0574 - binary_accuracy: 0.9787 - val_loss: 0.1420 - val_binary_accuracy: 0.9375\n",
      "Epoch 92/100\n",
      "50/50 [==============================] - 43s 849ms/step - loss: 0.0793 - binary_accuracy: 0.9862 - val_loss: 0.3984 - val_binary_accuracy: 0.7500\n",
      "Epoch 93/100\n",
      "50/50 [==============================] - 41s 816ms/step - loss: 0.0511 - binary_accuracy: 0.9837 - val_loss: 0.1162 - val_binary_accuracy: 1.0000\n",
      "Epoch 94/100\n",
      "50/50 [==============================] - 49s 967ms/step - loss: 0.0692 - binary_accuracy: 0.9787 - val_loss: 0.0862 - val_binary_accuracy: 1.0000\n",
      "Epoch 95/100\n",
      "50/50 [==============================] - 44s 858ms/step - loss: 0.0610 - binary_accuracy: 0.9787 - val_loss: 0.3800 - val_binary_accuracy: 0.7500\n",
      "Epoch 96/100\n",
      "50/50 [==============================] - 41s 804ms/step - loss: 0.0566 - binary_accuracy: 0.9825 - val_loss: 0.0456 - val_binary_accuracy: 1.0000\n",
      "Epoch 97/100\n",
      "50/50 [==============================] - 40s 797ms/step - loss: 0.0425 - binary_accuracy: 0.9862 - val_loss: 2.1798 - val_binary_accuracy: 0.6250\n",
      "Epoch 98/100\n",
      "50/50 [==============================] - 43s 838ms/step - loss: 0.1641 - binary_accuracy: 0.9663 - val_loss: 0.1904 - val_binary_accuracy: 0.8750\n",
      "Epoch 99/100\n",
      "50/50 [==============================] - 42s 831ms/step - loss: 0.0495 - binary_accuracy: 0.9775 - val_loss: 0.1472 - val_binary_accuracy: 0.9375\n",
      "Epoch 100/100\n",
      "50/50 [==============================] - 42s 821ms/step - loss: 0.0423 - binary_accuracy: 0.9850 - val_loss: 0.4436 - val_binary_accuracy: 0.8125\n"
     ]
    },
    {
     "data": {
      "text/plain": [
       "<keras.callbacks.History at 0x2005fcd6910>"
      ]
     },
     "execution_count": 63,
     "metadata": {},
     "output_type": "execute_result"
    }
   ],
   "source": [
    "model.fit(train_ds, steps_per_epoch = 50, epochs=100, validation_data=val_ds)"
   ]
  },
  {
   "cell_type": "code",
   "execution_count": 66,
   "metadata": {
    "execution": {
     "iopub.execute_input": "2021-07-01T17:21:37.402532Z",
     "iopub.status.busy": "2021-07-01T17:21:37.402174Z",
     "iopub.status.idle": "2021-07-01T17:22:06.965573Z",
     "shell.execute_reply": "2021-07-01T17:22:06.964398Z",
     "shell.execute_reply.started": "2021-07-01T17:21:37.402501Z"
    }
   },
   "outputs": [
    {
     "name": "stderr",
     "output_type": "stream",
     "text": [
      "c:\\Users\\KIIT\\.conda\\envs\\tensorflow\\lib\\site-packages\\keras\\engine\\training.py:2006: UserWarning: `Model.evaluate_generator` is deprecated and will be removed in a future version. Please use `Model.evaluate`, which supports generators.\n",
      "  warnings.warn('`Model.evaluate_generator` is deprecated and '\n"
     ]
    },
    {
     "name": "stdout",
     "output_type": "stream",
     "text": [
      "WARNING:tensorflow:Your input ran out of data; interrupting training. Make sure that your dataset or generator can generate at least `steps_per_epoch * epochs` batches (in this case, 624 batches). You may need to use the repeat() function when building your dataset.\n"
     ]
    }
   ],
   "source": [
    "''' evaluating model '''\n",
    "final_acc = model.evaluate_generator(tes_ds,624)[1]"
   ]
  },
  {
   "cell_type": "code",
   "execution_count": 67,
   "metadata": {
    "execution": {
     "iopub.execute_input": "2021-07-01T17:22:06.968025Z",
     "iopub.status.busy": "2021-07-01T17:22:06.967628Z",
     "iopub.status.idle": "2021-07-01T17:22:06.978503Z",
     "shell.execute_reply": "2021-07-01T17:22:06.976608Z",
     "shell.execute_reply.started": "2021-07-01T17:22:06.967981Z"
    }
   },
   "outputs": [
    {
     "data": {
      "text/plain": [
       "0.9294871687889099"
      ]
     },
     "execution_count": 67,
     "metadata": {},
     "output_type": "execute_result"
    }
   ],
   "source": [
    "final_acc"
   ]
  },
  {
   "cell_type": "code",
   "execution_count": 65,
   "metadata": {
    "execution": {
     "iopub.execute_input": "2021-07-01T17:03:16.613557Z",
     "iopub.status.busy": "2021-07-01T17:03:16.613215Z",
     "iopub.status.idle": "2021-07-01T17:03:16.989739Z",
     "shell.execute_reply": "2021-07-01T17:03:16.988778Z",
     "shell.execute_reply.started": "2021-07-01T17:03:16.613514Z"
    }
   },
   "outputs": [
    {
     "data": {
      "image/png": "[encoded data removed]",
      "text/plain": [
       "<Figure size 1080x720 with 2 Axes>"
      ]
     },
     "metadata": {
      "needs_background": "light"
     },
     "output_type": "display_data"
    }
   ],
   "source": [
    "''' Training Accuracy and Validaion Accuracy graph '''\n",
    "plt.figure(figsize=(15,10))\n",
    "plt.subplot(2, 2, 1)\n",
    "plt.plot(history.history['accuracy'], label = \"Training accuracy\")\n",
    "plt.plot(history.history['val_accuracy'], label=\"Validation accuracy\")\n",
    "plt.legend()\n",
    "plt.title(\"Training vs validation accuracy\")\n",
    "\n",
    "''' Training Loss and Validation Loss graph '''\n",
    "plt.subplot(2,2,2)\n",
    "plt.plot(history.history['loss'], label = \"Training loss\")\n",
    "plt.plot(history.history['val_loss'], label=\"Validation loss\")\n",
    "plt.legend()\n",
    "plt.title(\"Training vs validation loss\")\n",
    "\n",
    "plt.show()"
   ]
  },
  {
   "cell_type": "code",
   "execution_count": null,
   "metadata": {},
   "outputs": [],
   "source": []
  },
  {
   "cell_type": "code",
   "execution_count": null,
   "metadata": {},
   "outputs": [],
   "source": []
  }
 ],
 "metadata": {
  "kernelspec": {
   "display_name": "tensorflow",
   "language": "python",
   "name": "python3"
  },
  "language_info": {
   "codemirror_mode": {
    "name": "ipython",
    "version": 3
   },
   "file_extension": ".py",
   "mimetype": "text/x-python",
   "name": "python",
   "nbconvert_exporter": "python",
   "pygments_lexer": "ipython3",
   "version": "3.8.11 (default, Aug  6 2021, 09:57:55) [MSC v.1916 64 bit (AMD64)]"
  },
  "vscode": {
   "interpreter": {
    "hash": "781185f8ae7d5b77e227dbc79548f7e3cc70a9257a6a2f139b5c43ef63385557"
   }
  }
 },
 "nbformat": 4,
 "nbformat_minor": 4
}
